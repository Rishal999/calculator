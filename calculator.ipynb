{
 "cells": [
  {
   "cell_type": "code",
   "execution_count": null,
   "id": "a201d5d8-daa8-4feb-996e-d3577d512e0c",
   "metadata": {},
   "outputs": [
    {
     "name": "stdout",
     "output_type": "stream",
     "text": [
      "\n",
      "Select operation from given:\n",
      "1. Add\n",
      "2. Subtract\n",
      "3. Multiply\n",
      "4. Divide\n",
      "5. Exit\n"
     ]
    },
    {
     "name": "stdin",
     "output_type": "stream",
     "text": [
      "Enter your mathematical operator (1/2/3/4/5):  6\n"
     ]
    },
    {
     "name": "stdout",
     "output_type": "stream",
     "text": [
      "Operator unavailable. Please try again.\n",
      "\n",
      "Select operation from given:\n",
      "1. Add\n",
      "2. Subtract\n",
      "3. Multiply\n",
      "4. Divide\n",
      "5. Exit\n"
     ]
    },
    {
     "name": "stdin",
     "output_type": "stream",
     "text": [
      "Enter your mathematical operator (1/2/3/4/5):  4\n",
      "Enter your first number:  6\n",
      "Enter your second number:  63\n"
     ]
    },
    {
     "name": "stdout",
     "output_type": "stream",
     "text": [
      "Result: 0.09523809523809523\n",
      "\n",
      "Select operation from given:\n",
      "1. Add\n",
      "2. Subtract\n",
      "3. Multiply\n",
      "4. Divide\n",
      "5. Exit\n"
     ]
    }
   ],
   "source": [
    "def add(a,b):\n",
    "    return a+b\n",
    "\n",
    "def subtract(a,b):\n",
    "    return a-b\n",
    "\n",
    "def multiply(a,b):\n",
    "    return a*b\n",
    "\n",
    "def divide(a,b):\n",
    "    if b!=0 :\n",
    "       return a/b\n",
    "    else :\n",
    "        return \"division by zero is not allowed\"\n",
    "\n",
    "while True:\n",
    "    print(\"\\nSelect operation from given:\")\n",
    "    print(\"1. Add\")\n",
    "    print(\"2. Subtract\")\n",
    "    print(\"3. Multiply\")\n",
    "    print(\"4. Divide\")\n",
    "    print(\"5. Exit\")\n",
    "\n",
    "    c = input(\"Enter your mathematical operator (1/2/3/4/5): \")\n",
    "\n",
    "    if c == \"5\":\n",
    "        print(\"Exiting the program. Goodbye!\")\n",
    "        break\n",
    "\n",
    "    \n",
    "    if c not in [\"1\", \"2\", \"3\", \"4\"]:\n",
    "        print(\"Operator unavailable. Please try again.\")\n",
    "        continue \n",
    "\n",
    "    num1 = float(input(\"Enter your first number: \"))\n",
    "    num2 = float(input(\"Enter your second number: \"))\n",
    "\n",
    "    if c == '1':\n",
    "        print(\"Result:\", add(num1, num2))\n",
    "    elif c == '2':\n",
    "        print(\"Result:\", subtract(num1, num2))\n",
    "    elif c == '3':\n",
    "        print(\"Result:\", multiply(num1, num2))\n",
    "    elif c == '4':\n",
    "        print(\"Result:\", divide(num1, num2))"
   ]
  },
  {
   "cell_type": "code",
   "execution_count": null,
   "id": "0b2b432f-c2f6-4097-9fa6-fddec4e9a17c",
   "metadata": {},
   "outputs": [],
   "source": []
  }
 ],
 "metadata": {
  "kernelspec": {
   "display_name": "Python 3 (ipykernel)",
   "language": "python",
   "name": "python3"
  },
  "language_info": {
   "codemirror_mode": {
    "name": "ipython",
    "version": 3
   },
   "file_extension": ".py",
   "mimetype": "text/x-python",
   "name": "python",
   "nbconvert_exporter": "python",
   "pygments_lexer": "ipython3",
   "version": "3.12.6"
  }
 },
 "nbformat": 4,
 "nbformat_minor": 5
}
